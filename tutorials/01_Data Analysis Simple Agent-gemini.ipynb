{
 "cells": [
  {
   "cell_type": "code",
   "execution_count": 8,
   "id": "cd194820-5f16-47e9-9daa-7653e2b0ea6e",
   "metadata": {},
   "outputs": [],
   "source": [
    "import os\n",
    "from langchain_experimental.agents.agent_toolkits import create_pandas_dataframe_agent\n",
    "from langchain.agents import AgentType\n",
    "from langchain_google_genai import ChatGoogleGenerativeAI\n",
    "import pandas as pd\n",
    "import numpy as np\n",
    "from datetime import datetime, timedelta\n",
    "\n",
    "# Load environment variables\n",
    "from dotenv import load_dotenv\n",
    "import os\n",
    "\n",
    "# Load environment variables and set Google Gemini API key\n",
    "load_dotenv()\n",
    "os.environ[\"GOOGLE_API_KEY\"] = os.getenv('GOOGLE_API_KEY')\n",
    "\n",
    "# Set a random seed for reproducibility\n",
    "np.random.seed(42)"
   ]
  },
  {
   "cell_type": "code",
   "execution_count": 9,
   "id": "e433159d-3873-40f7-9925-c4a10aab2cab",
   "metadata": {},
   "outputs": [
    {
     "name": "stdout",
     "output_type": "stream",
     "text": [
      "\n",
      "First few rows of the generated data:\n",
      "        Date       Make      Model  Color  Year     Price  Mileage  \\\n",
      "0 2022-01-01   Mercedes      Sedan  Green  2022  57952.65   5522.0   \n",
      "1 2022-01-02  Chevrolet  Hatchback    Red  2021  58668.22  94238.0   \n",
      "2 2022-01-03       Audi      Truck  White  2019  69187.87   7482.0   \n",
      "3 2022-01-04     Nissan  Hatchback  Black  2016  40004.44  43846.0   \n",
      "4 2022-01-05   Mercedes  Hatchback    Red  2016  63983.07  52988.0   \n",
      "\n",
      "   EngineSize  FuelEfficiency SalesPerson  \n",
      "0         2.0            24.7       Alice  \n",
      "1         1.6            26.2         Bob  \n",
      "2         2.0            28.0       David  \n",
      "3         3.5            24.8       David  \n",
      "4         2.5            24.1       Alice  \n",
      "\n",
      "DataFrame info:\n",
      "<class 'pandas.core.frame.DataFrame'>\n",
      "RangeIndex: 1000 entries, 0 to 999\n",
      "Data columns (total 10 columns):\n",
      " #   Column          Non-Null Count  Dtype         \n",
      "---  ------          --------------  -----         \n",
      " 0   Date            1000 non-null   datetime64[ns]\n",
      " 1   Make            1000 non-null   object        \n",
      " 2   Model           1000 non-null   object        \n",
      " 3   Color           1000 non-null   object        \n",
      " 4   Year            1000 non-null   int64         \n",
      " 5   Price           1000 non-null   float64       \n",
      " 6   Mileage         1000 non-null   float64       \n",
      " 7   EngineSize      1000 non-null   float64       \n",
      " 8   FuelEfficiency  1000 non-null   float64       \n",
      " 9   SalesPerson     1000 non-null   object        \n",
      "dtypes: datetime64[ns](1), float64(4), int64(1), object(4)\n",
      "memory usage: 78.3+ KB\n",
      "\n",
      "Summary statistics:\n",
      "                      Date         Year         Price       Mileage  \\\n",
      "count                 1000  1000.000000   1000.000000   1000.000000   \n",
      "mean   2023-05-15 12:00:00  2018.445000  51145.360800  48484.643000   \n",
      "min    2022-01-01 00:00:00  2015.000000  20026.570000     19.000000   \n",
      "25%    2022-09-07 18:00:00  2017.000000  36859.940000  23191.500000   \n",
      "50%    2023-05-15 12:00:00  2018.000000  52215.155000  47506.000000   \n",
      "75%    2024-01-20 06:00:00  2020.000000  65741.147500  73880.250000   \n",
      "max    2024-09-26 00:00:00  2022.000000  79972.640000  99762.000000   \n",
      "std                    NaN     2.256117  17041.610861  29103.404593   \n",
      "\n",
      "        EngineSize  FuelEfficiency  \n",
      "count  1000.000000     1000.000000  \n",
      "mean      2.744500       29.688500  \n",
      "min       1.600000       20.000000  \n",
      "25%       2.000000       24.500000  \n",
      "50%       2.500000       29.700000  \n",
      "75%       3.500000       34.700000  \n",
      "max       4.000000       40.000000  \n",
      "std       0.839389        5.896316  \n"
     ]
    }
   ],
   "source": [
    "# Generate sample data\n",
    "n_rows = 1000\n",
    "\n",
    "# Generate dates\n",
    "start_date = datetime(2022, 1, 1)\n",
    "dates = [start_date + timedelta(days=i) for i in range(n_rows)]\n",
    "\n",
    "# Define data categories\n",
    "makes = ['Toyota', 'Honda', 'Ford', 'Chevrolet', 'Nissan', 'BMW', 'Mercedes', 'Audi', 'Hyundai', 'Kia']\n",
    "models = ['Sedan', 'SUV', 'Truck', 'Hatchback', 'Coupe', 'Van']\n",
    "colors = ['Red', 'Blue', 'Black', 'White', 'Silver', 'Gray', 'Green']\n",
    "\n",
    "# Create the dataset\n",
    "data = {\n",
    "    'Date': dates,\n",
    "    'Make': np.random.choice(makes, n_rows),\n",
    "    'Model': np.random.choice(models, n_rows),\n",
    "    'Color': np.random.choice(colors, n_rows),\n",
    "    'Year': np.random.randint(2015, 2023, n_rows),\n",
    "    'Price': np.random.uniform(20000, 80000, n_rows).round(2),\n",
    "    'Mileage': np.random.uniform(0, 100000, n_rows).round(0),\n",
    "    'EngineSize': np.random.choice([1.6, 2.0, 2.5, 3.0, 3.5, 4.0], n_rows),\n",
    "    'FuelEfficiency': np.random.uniform(20, 40, n_rows).round(1),\n",
    "    'SalesPerson': np.random.choice(['Alice', 'Bob', 'Charlie', 'David', 'Eva'], n_rows)\n",
    "}\n",
    "\n",
    "# Create DataFrame and sort by date\n",
    "df = pd.DataFrame(data).sort_values('Date')\n",
    "\n",
    "# Display sample data and statistics\n",
    "print(\"\\nFirst few rows of the generated data:\")\n",
    "print(df.head())\n",
    "\n",
    "print(\"\\nDataFrame info:\")\n",
    "df.info()\n",
    "\n",
    "print(\"\\nSummary statistics:\")\n",
    "print(df.describe())"
   ]
  },
  {
   "cell_type": "code",
   "execution_count": 20,
   "id": "f298f737-8666-40b0-885d-258bca5b9803",
   "metadata": {},
   "outputs": [
    {
     "name": "stdout",
     "output_type": "stream",
     "text": [
      "Data Analysis Agent is ready. You can now ask questions about the data.\n"
     ]
    }
   ],
   "source": [
    "# Create the Pandas DataFrame agent\n",
    "llm = ChatGoogleGenerativeAI(model=\"gemini-2.0-flash\", google_api_key=os.environ[\"GOOGLE_API_KEY\"])\n",
    "\n",
    "# NOTE: Set default agent_type => https://blog.stackademic.com/unveiling-insights-exploring-langchains-pandas-dataframe-agent-with-gemini-pro-5448487e21e2\n",
    "agent = create_pandas_dataframe_agent(\n",
    "    llm,\n",
    "    df,\n",
    "    verbose=True,\n",
    "    allow_dangerous_code=True,\n",
    "    # agent_type=AgentType.OPENAI_FUNCTIONS, \n",
    ")\n",
    "print(\"Data Analysis Agent is ready. You can now ask questions about the data.\")"
   ]
  },
  {
   "cell_type": "code",
   "execution_count": 21,
   "id": "58ccaca0-cb41-43d0-8e7b-53374d95ddb1",
   "metadata": {},
   "outputs": [],
   "source": [
    "def ask_agent(question):\n",
    "    \"\"\"Function to ask questions to the agent and display the response\"\"\"\n",
    "    response = agent.run({\n",
    "        \"input\": question,\n",
    "        \"agent_scratchpad\": f\"Human: {question}\\nAI: To answer this question, I need to use Python to analyze the dataframe. I'll use the python_repl_ast tool.\\n\\nAction: python_repl_ast\\nAction Input: \",\n",
    "    })\n",
    "    print(f\"Question: {question}\")\n",
    "    print(f\"Answer: {response}\")\n",
    "    print(\"---\")"
   ]
  },
  {
   "cell_type": "code",
   "execution_count": 22,
   "id": "949eadfd-47f0-401d-ad5a-5bd33c6a835a",
   "metadata": {},
   "outputs": [
    {
     "name": "stdout",
     "output_type": "stream",
     "text": [
      "\n",
      "\n",
      "\u001b[1m> Entering new AgentExecutor chain...\u001b[0m\n",
      "\u001b[32;1m\u001b[1;3mThought: I need to extract the column names from the dataframe.\n",
      "Action: python_repl_ast\n",
      "Action Input: print(df.columns)\u001b[0m\u001b[36;1m\u001b[1;3mIndex(['Date', 'Make', 'Model', 'Color', 'Year', 'Price', 'Mileage',\n",
      "       'EngineSize', 'FuelEfficiency', 'SalesPerson'],\n",
      "      dtype='object')\n",
      "\u001b[0m\u001b[32;1m\u001b[1;3mI now know the column names.\n",
      "Final Answer: Date, Make, Model, Color, Year, Price, Mileage, EngineSize, FuelEfficiency, SalesPerson\u001b[0m\n",
      "\n",
      "\u001b[1m> Finished chain.\u001b[0m\n",
      "Question: What are the column names in this dataset?\n",
      "Answer: Date, Make, Model, Color, Year, Price, Mileage, EngineSize, FuelEfficiency, SalesPerson\n",
      "---\n",
      "\n",
      "\n",
      "\u001b[1m> Entering new AgentExecutor chain...\u001b[0m\n",
      "\u001b[32;1m\u001b[1;3mThought: I need to find the number of rows in the dataframe `df`. I can use the `len()` function to determine this.\n",
      "Action: python_repl_ast\n",
      "Action Input: len(df)\u001b[0m\u001b[36;1m\u001b[1;3m1000\u001b[0m\u001b[32;1m\u001b[1;3mI now know the final answer\n",
      "Final Answer: 1000\u001b[0m\n",
      "\n",
      "\u001b[1m> Finished chain.\u001b[0m\n",
      "Question: How many rows are in this dataset?\n",
      "Answer: 1000\n",
      "---\n",
      "\n",
      "\n",
      "\u001b[1m> Entering new AgentExecutor chain...\u001b[0m\n",
      "\u001b[32;1m\u001b[1;3mThought: I need to calculate the mean of the 'Price' column in the dataframe.\n",
      "Action: python_repl_ast\n",
      "Action Input: `df['Price'].mean()`\u001b[0m\u001b[36;1m\u001b[1;3m51145.360799999995\u001b[0m\u001b[32;1m\u001b[1;3mI have calculated the average price.\n",
      "Final Answer: 51145.360799999995\u001b[0m\n",
      "\n",
      "\u001b[1m> Finished chain.\u001b[0m\n",
      "Question: What is the average price of cars sold?\n",
      "Answer: 51145.360799999995\n",
      "---\n"
     ]
    }
   ],
   "source": [
    "# Example questions\n",
    "ask_agent(\"What are the column names in this dataset?\")\n",
    "ask_agent(\"How many rows are in this dataset?\")\n",
    "ask_agent(\"What is the average price of cars sold?\")"
   ]
  },
  {
   "cell_type": "code",
   "execution_count": 24,
   "id": "58e281bc-76e0-4d84-b57e-b88ab7fa4b4a",
   "metadata": {},
   "outputs": [
    {
     "name": "stdout",
     "output_type": "stream",
     "text": [
      "\n",
      "\n",
      "\u001b[1m> Entering new AgentExecutor chain...\u001b[0m\n",
      "\u001b[32;1m\u001b[1;3mThought: I need to generate a histogram of the 'Price' column in the dataframe. I can use the `hist()` method of the pandas Series object.\n",
      "Action: python_repl_ast\n",
      "Action Input: `df['Price'].hist()`\u001b[0m\u001b[36;1m\u001b[1;3mAxes(0.125,0.11;0.775x0.77)\u001b[0m\u001b[32;1m\u001b[1;3mI have successfully generated the histogram.\n",
      "Final Answer: The histogram of the 'Price' column has been generated.\u001b[0m\n",
      "\n",
      "\u001b[1m> Finished chain.\u001b[0m\n",
      "Question: Could you visualize the distribution of price using a histogram\n",
      "Answer: The histogram of the 'Price' column has been generated.\n",
      "---\n"
     ]
    },
    {
     "data": {
      "image/png": "[encoded data removed]",
      "text/plain": [
       "<Figure size 640x480 with 1 Axes>"
      ]
     },
     "metadata": {},
     "output_type": "display_data"
    }
   ],
   "source": [
    "ask_agent(\"Could you visualize the distribution of price using a histogram\")"
   ]
  },
  {
   "cell_type": "code",
   "execution_count": null,
   "id": "5e44215d-fc97-4a4e-b6db-73a9bfe62ec3",
   "metadata": {},
   "outputs": [],
   "source": []
  }
 ],
 "metadata": {
  "kernelspec": {
   "display_name": "Python 3 (ipykernel)",
   "language": "python",
   "name": "python3"
  },
  "language_info": {
   "codemirror_mode": {
    "name": "ipython",
    "version": 3
   },
   "file_extension": ".py",
   "mimetype": "text/x-python",
   "name": "python",
   "nbconvert_exporter": "python",
   "pygments_lexer": "ipython3",
   "version": "3.13.2"
  }
 },
 "nbformat": 4,
 "nbformat_minor": 5
}
